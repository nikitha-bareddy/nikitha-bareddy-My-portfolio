{
  "nbformat": 4,
  "nbformat_minor": 0,
  "metadata": {
    "colab": {
      "provenance": [],
      "authorship_tag": "ABX9TyPlJSEXBvOilE1pvOV2WpKs",
      "include_colab_link": true
    },
    "kernelspec": {
      "name": "python3",
      "display_name": "Python 3"
    },
    "language_info": {
      "name": "python"
    }
  },
  "cells": [
    {
      "cell_type": "markdown",
      "metadata": {
        "id": "view-in-github",
        "colab_type": "text"
      },
      "source": [
        "<a href=\"https://colab.research.google.com/github/nikitha-bareddy/nikitha-bareddy-My-portfolio/blob/main/nikitha_portifolio.ipynb\" target=\"_parent\"><img src=\"https://colab.research.google.com/assets/colab-badge.svg\" alt=\"Open In Colab\"/></a>"
      ]
    },
    {
      "cell_type": "code",
      "execution_count": 5,
      "metadata": {
        "colab": {
          "base_uri": "https://localhost:8080/"
        },
        "id": "DmsORllJe5FG",
        "outputId": "3ae698ca-51b2-4c8e-cca5-6afe1679189b"
      },
      "outputs": [
        {
          "output_type": "stream",
          "name": "stdout",
          "text": [
            "Hello! I'm Nikitha Bareddy\n",
            "\n",
            "Currently enrolling in MSc Artificial Intelligence at Heriot-Watt University, Edinburgh.\n",
            "I completed my BSc in Agricultural Engineering with a focus on programming and farming system.\n",
            "I am passionate about AI, Machine Learning, and smart systems using Python.\n",
            "\n",
            "Projects\n",
            "\n",
            "1. Irrigation System Simulation\n",
            "   A Python-based system that simulates automated irrigation using environmental sensor thresholds such as temperature, humidity, and soil moisture.\n",
            "   Tech Stack: Python, simulated sensors\n",
            "   GitHub: https://github.com/Nikitha-Bareddy/smart-irrigation  (replace with actual link)\n",
            "\n",
            "2. Crop Recommendation System\n",
            "   An ML-based system that suggests optimal crops based on environmental conditions and soil parameters.\n",
            "   Tools Used: Python, Scikit-learn, Pandas\n",
            "   GitHub: https://github.com/Nikitha-Bareddy/crop-recommendation  (replace with actual link)\n",
            "\n",
            "3. Dashboard Visualization\n",
            "   Interactive dashboards created using Excel and HTML to visualize data trends and summaries.\n",
            "   Tools Used: Excel, HTML/CSS\n",
            "   GitHub: https://github.com/Nikitha-Bareddy/agri-dashboard  (replace with actual link)\n",
            "\n",
            "Skills\n",
            "Languages: Python, HTML\n",
            "AI and ML Tools: TensorFlow, Scikit-learn, Pandas, Jupyter Notebook\n",
            "Other Tools: Git, Excel, Arduino (simulated)\n",
            "\n",
            "Contact\n",
            "LinkedIn: https://www.linkedin.com/in/nikitha-reddy-a03602369\n",
            "Email: Nikitha.bareddy90@gmail.com\n",
            "GitHub: https://github.com/nikitha-bareddy\n"
          ]
        }
      ],
      "source": [
        "print(\"Hello! I'm Nikitha Bareddy\\n\")\n",
        "\n",
        "print(\"Currently enrolling in MSc Artificial Intelligence at Heriot-Watt University, Edinburgh.\")\n",
        "print(\"I completed my BSc in Agricultural Engineering with a focus on programming and farming system.\")\n",
        "print(\"I am passionate about AI, Machine Learning, and smart systems using Python.\\n\")\n",
        "\n",
        "print(\"Projects\\n\")\n",
        "\n",
        "print(\"1. Irrigation System Simulation\")\n",
        "print(\"   A Python-based system that simulates automated irrigation using environmental sensor thresholds such as temperature, humidity, and soil moisture.\")\n",
        "print(\"   Tech Stack: Python, simulated sensors\")\n",
        "print(\"   GitHub: https://github.com/Nikitha-Bareddy/smart-irrigation  (replace with actual link)\\n\")\n",
        "\n",
        "print(\"2. Crop Recommendation System\")\n",
        "print(\"   An ML-based system that suggests optimal crops based on environmental conditions and soil parameters.\")\n",
        "print(\"   Tools Used: Python, Scikit-learn, Pandas\")\n",
        "print(\"   GitHub: https://github.com/Nikitha-Bareddy/crop-recommendation  (replace with actual link)\\n\")\n",
        "\n",
        "print(\"3. Dashboard Visualization\")\n",
        "print(\"   Interactive dashboards created using Excel and HTML to visualize data trends and summaries.\")\n",
        "print(\"   Tools Used: Excel, HTML/CSS\")\n",
        "print(\"   GitHub: https://github.com/Nikitha-Bareddy/agri-dashboard  (replace with actual link)\\n\")\n",
        "\n",
        "print(\"Skills\")\n",
        "print(\"Languages: Python, HTML\")\n",
        "print(\"AI and ML Tools: TensorFlow, Scikit-learn, Pandas, Jupyter Notebook\")\n",
        "print(\"Other Tools: Git, Excel, Arduino (simulated)\\n\")\n",
        "\n",
        "print(\"Contact\")\n",
        "print(\"LinkedIn: https://www.linkedin.com/in/nikitha-reddy-a03602369\")\n",
        "print(\"Email: Nikitha.bareddy90@gmail.com\")\n",
        "print(\"GitHub: https://github.com/nikitha-bareddy\")"
      ]
    }
  ]
}